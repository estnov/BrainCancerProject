{
 "cells": [
  {
   "cell_type": "markdown",
   "id": "d10f1f6c",
   "metadata": {},
   "source": [
    "<img src=\"https://encrypted-tbn0.gstatic.com/images?q=tbn:ANd9GcSOdAdZMFgJ3Zyp03kBtaKrLIKMHtQQrJjRowg_d5_v&s\">\n",
    "<h1>Universidad Politécnica Salesiana</h1>\n",
    "<h2>Aprendizaje Automatico</h2>\n",
    "<h3>Juan Pablo Saldana, Esteban Novillo</h3>\n",
    "<h4>Lectura y conformacion del dataset<h4>"
   ]
  },
  {
   "cell_type": "markdown",
   "id": "ab18c846",
   "metadata": {},
   "source": [
    "<h5>Imágenes obtenidas del preprocesamiento:</h5>\n",
    "\n",
    "<p>En la fase previa a esta se ejecutó la lectura y división respectiva de las imágenes en diagnóstico positivo y negativo de cáncer cerebral. Se toma esta decisión para poder realizar un trabajo futuro respecto a la posibilidad de metástasis y recurrencia de cáncer. </p>\n",
    "\n",
    "<br>\n",
    "<p>A continuación se presenta la comparación de una de las imágenes originales y su análoga luego del preprocesamiento respectivo:</p>\n",
    "<br>\n",
    "\n",
    "<h6>Imágen original de un caso positivo de tumor cerebral:</h6>\n",
    "\n",
    "<img src=\"\\samples\\withPreProc.jpg\" alt=\"Imagen previo a preprocesamiento\" width=\"256\" height=\"256\">"
   ]
  },
  {
   "cell_type": "code",
   "execution_count": null,
   "id": "736d859e",
   "metadata": {},
   "outputs": [],
   "source": []
  }
 ],
 "metadata": {
  "kernelspec": {
   "display_name": "Python 3 (ipykernel)",
   "language": "python",
   "name": "python3"
  },
  "language_info": {
   "codemirror_mode": {
    "name": "ipython",
    "version": 3
   },
   "file_extension": ".py",
   "mimetype": "text/x-python",
   "name": "python",
   "nbconvert_exporter": "python",
   "pygments_lexer": "ipython3",
   "version": "3.10.9"
  }
 },
 "nbformat": 4,
 "nbformat_minor": 5
}
